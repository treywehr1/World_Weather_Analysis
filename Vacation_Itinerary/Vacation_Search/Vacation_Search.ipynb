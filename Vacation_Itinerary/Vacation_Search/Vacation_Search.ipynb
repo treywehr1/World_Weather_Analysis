{
 "cells": [
  {
   "cell_type": "markdown",
   "metadata": {},
   "source": [
    "## Deliverable 2. Create a Customer Travel Destinations Map."
   ]
  },
  {
   "cell_type": "code",
   "execution_count": 1,
   "metadata": {},
   "outputs": [],
   "source": [
    "# Dependencies and Setup\n",
    "import pandas as pd\n",
    "import requests\n",
    "import gmaps\n",
    "\n",
    "# Import API key\n",
    "from config import g_key\n",
    "\n",
    "# Configure gmaps API key\n",
    "gmaps.configure(api_key=g_key)"
   ]
  },
  {
   "cell_type": "code",
   "execution_count": 2,
   "metadata": {},
   "outputs": [
    {
     "output_type": "execute_result",
     "data": {
      "text/plain": [
       "   City_ID        City Country                 Date    Lat     Lng  Max Temp  \\\n",
       "0        0   Jamestown      US  2020-10-24 17:17:08  42.10  -79.24     44.01   \n",
       "1        1  Bredasdorp      ZA  2020-10-24 17:17:08 -34.53   20.04     66.20   \n",
       "2        2     Rosetta      EG  2020-10-24 17:17:08  31.40   30.42     73.40   \n",
       "3        3  North Bend      US  2020-10-24 17:17:08  43.41 -124.22     54.00   \n",
       "4        4   Busselton      AU  2020-10-24 17:17:08 -33.65  115.33     59.00   \n",
       "\n",
       "   Humidity  Cloudiness  Wind Speed Current Description  \n",
       "0        70          90        3.36     overcast clouds  \n",
       "1        72          39        9.17    scattered clouds  \n",
       "2        60          20        4.70          few clouds  \n",
       "3       100          90        3.36     overcast clouds  \n",
       "4        49          69       12.12       broken clouds  "
      ],
      "text/html": "<div>\n<style scoped>\n    .dataframe tbody tr th:only-of-type {\n        vertical-align: middle;\n    }\n\n    .dataframe tbody tr th {\n        vertical-align: top;\n    }\n\n    .dataframe thead th {\n        text-align: right;\n    }\n</style>\n<table border=\"1\" class=\"dataframe\">\n  <thead>\n    <tr style=\"text-align: right;\">\n      <th></th>\n      <th>City_ID</th>\n      <th>City</th>\n      <th>Country</th>\n      <th>Date</th>\n      <th>Lat</th>\n      <th>Lng</th>\n      <th>Max Temp</th>\n      <th>Humidity</th>\n      <th>Cloudiness</th>\n      <th>Wind Speed</th>\n      <th>Current Description</th>\n    </tr>\n  </thead>\n  <tbody>\n    <tr>\n      <th>0</th>\n      <td>0</td>\n      <td>Jamestown</td>\n      <td>US</td>\n      <td>2020-10-24 17:17:08</td>\n      <td>42.10</td>\n      <td>-79.24</td>\n      <td>44.01</td>\n      <td>70</td>\n      <td>90</td>\n      <td>3.36</td>\n      <td>overcast clouds</td>\n    </tr>\n    <tr>\n      <th>1</th>\n      <td>1</td>\n      <td>Bredasdorp</td>\n      <td>ZA</td>\n      <td>2020-10-24 17:17:08</td>\n      <td>-34.53</td>\n      <td>20.04</td>\n      <td>66.20</td>\n      <td>72</td>\n      <td>39</td>\n      <td>9.17</td>\n      <td>scattered clouds</td>\n    </tr>\n    <tr>\n      <th>2</th>\n      <td>2</td>\n      <td>Rosetta</td>\n      <td>EG</td>\n      <td>2020-10-24 17:17:08</td>\n      <td>31.40</td>\n      <td>30.42</td>\n      <td>73.40</td>\n      <td>60</td>\n      <td>20</td>\n      <td>4.70</td>\n      <td>few clouds</td>\n    </tr>\n    <tr>\n      <th>3</th>\n      <td>3</td>\n      <td>North Bend</td>\n      <td>US</td>\n      <td>2020-10-24 17:17:08</td>\n      <td>43.41</td>\n      <td>-124.22</td>\n      <td>54.00</td>\n      <td>100</td>\n      <td>90</td>\n      <td>3.36</td>\n      <td>overcast clouds</td>\n    </tr>\n    <tr>\n      <th>4</th>\n      <td>4</td>\n      <td>Busselton</td>\n      <td>AU</td>\n      <td>2020-10-24 17:17:08</td>\n      <td>-33.65</td>\n      <td>115.33</td>\n      <td>59.00</td>\n      <td>49</td>\n      <td>69</td>\n      <td>12.12</td>\n      <td>broken clouds</td>\n    </tr>\n  </tbody>\n</table>\n</div>"
     },
     "metadata": {},
     "execution_count": 2
    }
   ],
   "source": [
    "# 1. Import the WeatherPy_database.csv file. \n",
    "city_data_df = pd.read_csv(\"Weather_Database/WeatherPy_database.csv\")\n",
    "city_data_df.head()"
   ]
  },
  {
   "cell_type": "code",
   "execution_count": 3,
   "metadata": {},
   "outputs": [],
   "source": [
    "# 2. Prompt the user to enter minimum and maximum temperature criteria \n",
    "min_temp = float(input(\"What is the minimum temperature you would like for your trip? \"))\n",
    "max_temp = float(input(\"What is the maximum temperature you would like for your trip? \"))"
   ]
  },
  {
   "cell_type": "code",
   "execution_count": 4,
   "metadata": {},
   "outputs": [
    {
     "output_type": "execute_result",
     "data": {
      "text/plain": [
       "    City_ID       City Country                 Date    Lat     Lng  Max Temp  \\\n",
       "23       23  Etchoropo      MX  2020-10-24 17:17:11  26.77 -109.67     88.00   \n",
       "29       29      Aswan      EG  2020-10-24 17:13:24  24.09   32.91     83.98   \n",
       "39       39   Santiago      CL  2020-10-24 17:14:28 -33.46  -70.65     78.01   \n",
       "40       40     Viedma      AR  2020-10-24 17:17:13 -40.81  -63.00     84.00   \n",
       "41       41      Hobyo      SO  2020-10-24 17:17:14   5.35   48.53     81.45   \n",
       "55       55  Alyangula      AU  2020-10-24 17:17:15 -13.85  136.42     82.40   \n",
       "60       60      Arlit      NE  2020-10-24 17:17:16  18.74    7.39     89.65   \n",
       "61       61  Hithadhoo      MV  2020-10-24 17:14:55  -0.60   73.08     83.53   \n",
       "67       67   Piranhas      BR  2020-10-24 17:17:17 -16.43  -51.82     86.68   \n",
       "74       74   Aripuana      BR  2020-10-24 17:17:18  -9.17  -60.63     87.13   \n",
       "\n",
       "    Humidity  Cloudiness  Wind Speed Current Description  \n",
       "23        47           1        1.99           clear sky  \n",
       "29        28           0       18.05           clear sky  \n",
       "39        40           0        5.82           clear sky  \n",
       "40        45          74        7.00       broken clouds  \n",
       "41        76          37       18.81          light rain  \n",
       "55        78          85        8.05     overcast clouds  \n",
       "60        11           0       16.64           clear sky  \n",
       "61        75          26       10.54    scattered clouds  \n",
       "67        57          99       11.59          light rain  \n",
       "74        60          75        7.31          light rain  "
      ],
      "text/html": "<div>\n<style scoped>\n    .dataframe tbody tr th:only-of-type {\n        vertical-align: middle;\n    }\n\n    .dataframe tbody tr th {\n        vertical-align: top;\n    }\n\n    .dataframe thead th {\n        text-align: right;\n    }\n</style>\n<table border=\"1\" class=\"dataframe\">\n  <thead>\n    <tr style=\"text-align: right;\">\n      <th></th>\n      <th>City_ID</th>\n      <th>City</th>\n      <th>Country</th>\n      <th>Date</th>\n      <th>Lat</th>\n      <th>Lng</th>\n      <th>Max Temp</th>\n      <th>Humidity</th>\n      <th>Cloudiness</th>\n      <th>Wind Speed</th>\n      <th>Current Description</th>\n    </tr>\n  </thead>\n  <tbody>\n    <tr>\n      <th>23</th>\n      <td>23</td>\n      <td>Etchoropo</td>\n      <td>MX</td>\n      <td>2020-10-24 17:17:11</td>\n      <td>26.77</td>\n      <td>-109.67</td>\n      <td>88.00</td>\n      <td>47</td>\n      <td>1</td>\n      <td>1.99</td>\n      <td>clear sky</td>\n    </tr>\n    <tr>\n      <th>29</th>\n      <td>29</td>\n      <td>Aswan</td>\n      <td>EG</td>\n      <td>2020-10-24 17:13:24</td>\n      <td>24.09</td>\n      <td>32.91</td>\n      <td>83.98</td>\n      <td>28</td>\n      <td>0</td>\n      <td>18.05</td>\n      <td>clear sky</td>\n    </tr>\n    <tr>\n      <th>39</th>\n      <td>39</td>\n      <td>Santiago</td>\n      <td>CL</td>\n      <td>2020-10-24 17:14:28</td>\n      <td>-33.46</td>\n      <td>-70.65</td>\n      <td>78.01</td>\n      <td>40</td>\n      <td>0</td>\n      <td>5.82</td>\n      <td>clear sky</td>\n    </tr>\n    <tr>\n      <th>40</th>\n      <td>40</td>\n      <td>Viedma</td>\n      <td>AR</td>\n      <td>2020-10-24 17:17:13</td>\n      <td>-40.81</td>\n      <td>-63.00</td>\n      <td>84.00</td>\n      <td>45</td>\n      <td>74</td>\n      <td>7.00</td>\n      <td>broken clouds</td>\n    </tr>\n    <tr>\n      <th>41</th>\n      <td>41</td>\n      <td>Hobyo</td>\n      <td>SO</td>\n      <td>2020-10-24 17:17:14</td>\n      <td>5.35</td>\n      <td>48.53</td>\n      <td>81.45</td>\n      <td>76</td>\n      <td>37</td>\n      <td>18.81</td>\n      <td>light rain</td>\n    </tr>\n    <tr>\n      <th>55</th>\n      <td>55</td>\n      <td>Alyangula</td>\n      <td>AU</td>\n      <td>2020-10-24 17:17:15</td>\n      <td>-13.85</td>\n      <td>136.42</td>\n      <td>82.40</td>\n      <td>78</td>\n      <td>85</td>\n      <td>8.05</td>\n      <td>overcast clouds</td>\n    </tr>\n    <tr>\n      <th>60</th>\n      <td>60</td>\n      <td>Arlit</td>\n      <td>NE</td>\n      <td>2020-10-24 17:17:16</td>\n      <td>18.74</td>\n      <td>7.39</td>\n      <td>89.65</td>\n      <td>11</td>\n      <td>0</td>\n      <td>16.64</td>\n      <td>clear sky</td>\n    </tr>\n    <tr>\n      <th>61</th>\n      <td>61</td>\n      <td>Hithadhoo</td>\n      <td>MV</td>\n      <td>2020-10-24 17:14:55</td>\n      <td>-0.60</td>\n      <td>73.08</td>\n      <td>83.53</td>\n      <td>75</td>\n      <td>26</td>\n      <td>10.54</td>\n      <td>scattered clouds</td>\n    </tr>\n    <tr>\n      <th>67</th>\n      <td>67</td>\n      <td>Piranhas</td>\n      <td>BR</td>\n      <td>2020-10-24 17:17:17</td>\n      <td>-16.43</td>\n      <td>-51.82</td>\n      <td>86.68</td>\n      <td>57</td>\n      <td>99</td>\n      <td>11.59</td>\n      <td>light rain</td>\n    </tr>\n    <tr>\n      <th>74</th>\n      <td>74</td>\n      <td>Aripuana</td>\n      <td>BR</td>\n      <td>2020-10-24 17:17:18</td>\n      <td>-9.17</td>\n      <td>-60.63</td>\n      <td>87.13</td>\n      <td>60</td>\n      <td>75</td>\n      <td>7.31</td>\n      <td>light rain</td>\n    </tr>\n  </tbody>\n</table>\n</div>"
     },
     "metadata": {},
     "execution_count": 4
    }
   ],
   "source": [
    "# 3. Filter the city_data_df DataFrame using the input statements to create a new DataFrame using the loc method.\n",
    "preferred_cities_df = city_data_df.loc[(city_data_df[\"Max Temp\"] <= max_temp) & \\\n",
    "                                       (city_data_df[\"Max Temp\"] >= min_temp)]\n",
    "\n",
    "preferred_cities_df.head(10)"
   ]
  },
  {
   "cell_type": "code",
   "execution_count": 5,
   "metadata": {},
   "outputs": [
    {
     "output_type": "execute_result",
     "data": {
      "text/plain": [
       "City_ID                205\n",
       "City                   205\n",
       "Country                204\n",
       "Date                   205\n",
       "Lat                    205\n",
       "Lng                    205\n",
       "Max Temp               205\n",
       "Humidity               205\n",
       "Cloudiness             205\n",
       "Wind Speed             205\n",
       "Current Description    205\n",
       "dtype: int64"
      ]
     },
     "metadata": {},
     "execution_count": 5
    }
   ],
   "source": [
    "# 4a. Determine if there are any empty rows.\n",
    "preferred_cities_df.count()"
   ]
  },
  {
   "cell_type": "code",
   "execution_count": 6,
   "metadata": {},
   "outputs": [
    {
     "output_type": "execute_result",
     "data": {
      "text/plain": [
       "City_ID                204\n",
       "City                   204\n",
       "Country                204\n",
       "Date                   204\n",
       "Lat                    204\n",
       "Lng                    204\n",
       "Max Temp               204\n",
       "Humidity               204\n",
       "Cloudiness             204\n",
       "Wind Speed             204\n",
       "Current Description    204\n",
       "dtype: int64"
      ]
     },
     "metadata": {},
     "execution_count": 6
    }
   ],
   "source": [
    "# 4b. Drop any empty rows and create a new DataFrame that doesn’t have empty rows.\n",
    "all_preferred_cities_df = preferred_cities_df.dropna()\n",
    "all_preferred_cities_df.count()"
   ]
  },
  {
   "cell_type": "code",
   "execution_count": 7,
   "metadata": {},
   "outputs": [
    {
     "output_type": "execute_result",
     "data": {
      "text/plain": [
       "         City Country  Max Temp Current Description    Lat     Lng Hotel Name\n",
       "23  Etchoropo      MX     88.00           clear sky  26.77 -109.67           \n",
       "29      Aswan      EG     83.98           clear sky  24.09   32.91           \n",
       "39   Santiago      CL     78.01           clear sky -33.46  -70.65           \n",
       "40     Viedma      AR     84.00       broken clouds -40.81  -63.00           \n",
       "41      Hobyo      SO     81.45          light rain   5.35   48.53           \n",
       "55  Alyangula      AU     82.40     overcast clouds -13.85  136.42           \n",
       "60      Arlit      NE     89.65           clear sky  18.74    7.39           \n",
       "61  Hithadhoo      MV     83.53    scattered clouds  -0.60   73.08           \n",
       "67   Piranhas      BR     86.68          light rain -16.43  -51.82           \n",
       "74   Aripuana      BR     87.13          light rain  -9.17  -60.63           "
      ],
      "text/html": "<div>\n<style scoped>\n    .dataframe tbody tr th:only-of-type {\n        vertical-align: middle;\n    }\n\n    .dataframe tbody tr th {\n        vertical-align: top;\n    }\n\n    .dataframe thead th {\n        text-align: right;\n    }\n</style>\n<table border=\"1\" class=\"dataframe\">\n  <thead>\n    <tr style=\"text-align: right;\">\n      <th></th>\n      <th>City</th>\n      <th>Country</th>\n      <th>Max Temp</th>\n      <th>Current Description</th>\n      <th>Lat</th>\n      <th>Lng</th>\n      <th>Hotel Name</th>\n    </tr>\n  </thead>\n  <tbody>\n    <tr>\n      <th>23</th>\n      <td>Etchoropo</td>\n      <td>MX</td>\n      <td>88.00</td>\n      <td>clear sky</td>\n      <td>26.77</td>\n      <td>-109.67</td>\n      <td></td>\n    </tr>\n    <tr>\n      <th>29</th>\n      <td>Aswan</td>\n      <td>EG</td>\n      <td>83.98</td>\n      <td>clear sky</td>\n      <td>24.09</td>\n      <td>32.91</td>\n      <td></td>\n    </tr>\n    <tr>\n      <th>39</th>\n      <td>Santiago</td>\n      <td>CL</td>\n      <td>78.01</td>\n      <td>clear sky</td>\n      <td>-33.46</td>\n      <td>-70.65</td>\n      <td></td>\n    </tr>\n    <tr>\n      <th>40</th>\n      <td>Viedma</td>\n      <td>AR</td>\n      <td>84.00</td>\n      <td>broken clouds</td>\n      <td>-40.81</td>\n      <td>-63.00</td>\n      <td></td>\n    </tr>\n    <tr>\n      <th>41</th>\n      <td>Hobyo</td>\n      <td>SO</td>\n      <td>81.45</td>\n      <td>light rain</td>\n      <td>5.35</td>\n      <td>48.53</td>\n      <td></td>\n    </tr>\n    <tr>\n      <th>55</th>\n      <td>Alyangula</td>\n      <td>AU</td>\n      <td>82.40</td>\n      <td>overcast clouds</td>\n      <td>-13.85</td>\n      <td>136.42</td>\n      <td></td>\n    </tr>\n    <tr>\n      <th>60</th>\n      <td>Arlit</td>\n      <td>NE</td>\n      <td>89.65</td>\n      <td>clear sky</td>\n      <td>18.74</td>\n      <td>7.39</td>\n      <td></td>\n    </tr>\n    <tr>\n      <th>61</th>\n      <td>Hithadhoo</td>\n      <td>MV</td>\n      <td>83.53</td>\n      <td>scattered clouds</td>\n      <td>-0.60</td>\n      <td>73.08</td>\n      <td></td>\n    </tr>\n    <tr>\n      <th>67</th>\n      <td>Piranhas</td>\n      <td>BR</td>\n      <td>86.68</td>\n      <td>light rain</td>\n      <td>-16.43</td>\n      <td>-51.82</td>\n      <td></td>\n    </tr>\n    <tr>\n      <th>74</th>\n      <td>Aripuana</td>\n      <td>BR</td>\n      <td>87.13</td>\n      <td>light rain</td>\n      <td>-9.17</td>\n      <td>-60.63</td>\n      <td></td>\n    </tr>\n  </tbody>\n</table>\n</div>"
     },
     "metadata": {},
     "execution_count": 7
    }
   ],
   "source": [
    "# 5a. Create DataFrame called hotel_df to store hotel names along with city, country, max temp, and coordinates.\n",
    "hotel_df = all_preferred_cities_df[[\"City\", \"Country\", \"Max Temp\", \"Current Description\", \"Lat\", \"Lng\"]].copy()\n",
    "\n",
    "# 5b. Create a new column \"Hotel Name\"\n",
    "hotel_df[\"Hotel Name\"] = \"\"\n",
    "hotel_df.head(10)"
   ]
  },
  {
   "cell_type": "code",
   "execution_count": 8,
   "metadata": {},
   "outputs": [
    {
     "output_type": "stream",
     "name": "stdout",
     "text": [
      "Hotel not found... skipping.\n",
      "Hotel not found... skipping.\n",
      "Hotel not found... skipping.\n",
      "Hotel not found... skipping.\n",
      "Hotel not found... skipping.\n",
      "Hotel not found... skipping.\n",
      "Hotel not found... skipping.\n",
      "Hotel not found... skipping.\n",
      "Hotel not found... skipping.\n",
      "Hotel not found... skipping.\n",
      "Hotel not found... skipping.\n",
      "Hotel not found... skipping.\n",
      "Hotel not found... skipping.\n",
      "Hotel not found... skipping.\n",
      "Hotel not found... skipping.\n",
      "Hotel not found... skipping.\n",
      "Hotel not found... skipping.\n",
      "Hotel not found... skipping.\n"
     ]
    },
    {
     "output_type": "execute_result",
     "data": {
      "text/plain": [
       "         City Country  Max Temp Current Description    Lat     Lng  \\\n",
       "23  Etchoropo      MX     88.00           clear sky  26.77 -109.67   \n",
       "29      Aswan      EG     83.98           clear sky  24.09   32.91   \n",
       "39   Santiago      CL     78.01           clear sky -33.46  -70.65   \n",
       "40     Viedma      AR     84.00       broken clouds -40.81  -63.00   \n",
       "41      Hobyo      SO     81.45          light rain   5.35   48.53   \n",
       "55  Alyangula      AU     82.40     overcast clouds -13.85  136.42   \n",
       "60      Arlit      NE     89.65           clear sky  18.74    7.39   \n",
       "61  Hithadhoo      MV     83.53    scattered clouds  -0.60   73.08   \n",
       "67   Piranhas      BR     86.68          light rain -16.43  -51.82   \n",
       "74   Aripuana      BR     87.13          light rain  -9.17  -60.63   \n",
       "\n",
       "              Hotel Name  \n",
       "23       Hotel Villa Mar  \n",
       "29             Nuba Nile  \n",
       "39    Hotel Panamericano  \n",
       "40         Hotel Cristal  \n",
       "41          Osmani Hotel  \n",
       "55  Groote Eylandt Lodge  \n",
       "60  Hôtel Telwa Bungalow  \n",
       "61     Scoop Guest House  \n",
       "67          Hotel Brasil  \n",
       "74                        "
      ],
      "text/html": "<div>\n<style scoped>\n    .dataframe tbody tr th:only-of-type {\n        vertical-align: middle;\n    }\n\n    .dataframe tbody tr th {\n        vertical-align: top;\n    }\n\n    .dataframe thead th {\n        text-align: right;\n    }\n</style>\n<table border=\"1\" class=\"dataframe\">\n  <thead>\n    <tr style=\"text-align: right;\">\n      <th></th>\n      <th>City</th>\n      <th>Country</th>\n      <th>Max Temp</th>\n      <th>Current Description</th>\n      <th>Lat</th>\n      <th>Lng</th>\n      <th>Hotel Name</th>\n    </tr>\n  </thead>\n  <tbody>\n    <tr>\n      <th>23</th>\n      <td>Etchoropo</td>\n      <td>MX</td>\n      <td>88.00</td>\n      <td>clear sky</td>\n      <td>26.77</td>\n      <td>-109.67</td>\n      <td>Hotel Villa Mar</td>\n    </tr>\n    <tr>\n      <th>29</th>\n      <td>Aswan</td>\n      <td>EG</td>\n      <td>83.98</td>\n      <td>clear sky</td>\n      <td>24.09</td>\n      <td>32.91</td>\n      <td>Nuba Nile</td>\n    </tr>\n    <tr>\n      <th>39</th>\n      <td>Santiago</td>\n      <td>CL</td>\n      <td>78.01</td>\n      <td>clear sky</td>\n      <td>-33.46</td>\n      <td>-70.65</td>\n      <td>Hotel Panamericano</td>\n    </tr>\n    <tr>\n      <th>40</th>\n      <td>Viedma</td>\n      <td>AR</td>\n      <td>84.00</td>\n      <td>broken clouds</td>\n      <td>-40.81</td>\n      <td>-63.00</td>\n      <td>Hotel Cristal</td>\n    </tr>\n    <tr>\n      <th>41</th>\n      <td>Hobyo</td>\n      <td>SO</td>\n      <td>81.45</td>\n      <td>light rain</td>\n      <td>5.35</td>\n      <td>48.53</td>\n      <td>Osmani Hotel</td>\n    </tr>\n    <tr>\n      <th>55</th>\n      <td>Alyangula</td>\n      <td>AU</td>\n      <td>82.40</td>\n      <td>overcast clouds</td>\n      <td>-13.85</td>\n      <td>136.42</td>\n      <td>Groote Eylandt Lodge</td>\n    </tr>\n    <tr>\n      <th>60</th>\n      <td>Arlit</td>\n      <td>NE</td>\n      <td>89.65</td>\n      <td>clear sky</td>\n      <td>18.74</td>\n      <td>7.39</td>\n      <td>Hôtel Telwa Bungalow</td>\n    </tr>\n    <tr>\n      <th>61</th>\n      <td>Hithadhoo</td>\n      <td>MV</td>\n      <td>83.53</td>\n      <td>scattered clouds</td>\n      <td>-0.60</td>\n      <td>73.08</td>\n      <td>Scoop Guest House</td>\n    </tr>\n    <tr>\n      <th>67</th>\n      <td>Piranhas</td>\n      <td>BR</td>\n      <td>86.68</td>\n      <td>light rain</td>\n      <td>-16.43</td>\n      <td>-51.82</td>\n      <td>Hotel Brasil</td>\n    </tr>\n    <tr>\n      <th>74</th>\n      <td>Aripuana</td>\n      <td>BR</td>\n      <td>87.13</td>\n      <td>light rain</td>\n      <td>-9.17</td>\n      <td>-60.63</td>\n      <td></td>\n    </tr>\n  </tbody>\n</table>\n</div>"
     },
     "metadata": {},
     "execution_count": 8
    }
   ],
   "source": [
    "# 6a. Set parameters to search for hotels with 5000 meters.\n",
    "params = {\n",
    "    \"radius\": 5000,\n",
    "    \"type\": \"lodging\",\n",
    "    \"key\": g_key\n",
    "}\n",
    "\n",
    "# 6b. Iterate through the hotel DataFrame.\n",
    "for index, row in hotel_df.iterrows():\n",
    "    # 6c. Get latitude and longitude from DataFrame\n",
    "    lat = row[\"Lat\"]\n",
    "    lng = row[\"Lng\"]\n",
    "    # 6d. Set up the base URL for the Google Directions API to get JSON data.\n",
    "    params[\"location\"] = f\"{lat},{lng}\"\n",
    "    base_url = \"https://maps.googleapis.com/maps/api/place/nearbysearch/json\"\n",
    "\n",
    "    # 6e. Make request and retrieve the JSON data from the search. \n",
    "    hotels = requests.get(base_url, params=params).json()\n",
    "    \n",
    "    # 6f. Get the first hotel from the results and store the name, if a hotel isn't found skip the city.\n",
    "    try:\n",
    "        hotel_df.loc[index, \"Hotel Name\"] = hotels[\"results\"][0][\"name\"]\n",
    "    except (IndexError):\n",
    "        print(\"Hotel not found... skipping.\")\n",
    "hotel_df.head(10)\n",
    "        "
   ]
  },
  {
   "cell_type": "code",
   "execution_count": 20,
   "metadata": {},
   "outputs": [],
   "source": [
    "# 7. Drop the rows where there is no Hotel Name.\n",
    "clean_hotel_df = hotel_df.dropna()"
   ]
  },
  {
   "cell_type": "code",
   "execution_count": 21,
   "metadata": {},
   "outputs": [],
   "source": [
    "# 8a. Create the output File (CSV)\n",
    "# Create the output file (CSV).\n",
    "output_data_file = (r\"C:\\Users\\Music Matters\\Documents\\VandyBootcamp\\World_Weather_Analysis\\Vacation_Search\\WeatherPy_vacation.csv\")\n",
    "# 8b. Export the City_Data into a csv\n",
    "clean_hotel_df.to_csv(output_data_file, index_label=\"City_ID\")"
   ]
  },
  {
   "cell_type": "code",
   "execution_count": 22,
   "metadata": {},
   "outputs": [],
   "source": [
    "# 9. Using the template add city name, the country code, the weather description and maximum temperature for the city.\n",
    "info_box_template = \"\"\"\n",
    "<dl>\n",
    "<dt>City</dt><dd>{City}</dd>\n",
    "<dt>Country</dt><dd>{Country}</dd>\n",
    "<dt>Current Description</dt><dd>{Current Description}</dd>\n",
    "<dt>Max Temp</dt><dd>{Max Temp} °F</dd>\n",
    "</dl>\n",
    "\"\"\"\n",
    "\n",
    "# 10a. Get the data from each row and add it to the formatting template and store the data in a list.\n",
    "hotel_info = [info_box_template.format(**row) for index, row in clean_hotel_df.iterrows()]\n",
    "\n",
    "# 10b. Get the latitude and longitude from each row and store in a new DataFrame.\n",
    "locations = clean_hotel_df[[\"Lat\", \"Lng\"]]"
   ]
  },
  {
   "cell_type": "code",
   "execution_count": 23,
   "metadata": {},
   "outputs": [
    {
     "output_type": "display_data",
     "data": {
      "text/plain": "Figure(layout=FigureLayout(height='420px'))",
      "application/vnd.jupyter.widget-view+json": {
       "version_major": 2,
       "version_minor": 0,
       "model_id": "c899d4c91b6c476ba252ee2733b52e7c"
      }
     },
     "metadata": {}
    }
   ],
   "source": [
    "# 11a. Add a marker layer for each city to the map. \n",
    "locations = hotel_df[[\"Lat\", \"Lng\"]]\n",
    "max_temp = hotel_df[\"Max Temp\"]\n",
    "fig = gmaps.figure(center=(30.0, 31.0), zoom_level=1.5)\n",
    "heat_layer = gmaps.heatmap_layer(locations, weights=max_temp,dissipating=False,\n",
    "             max_intensity=300, point_radius=4)\n",
    "marker_layer = gmaps.marker_layer(locations, info_box_content=hotel_info)\n",
    "fig.add_layer(heat_layer)\n",
    "fig.add_layer(marker_layer)\n",
    "\n",
    "# 11b. Display the figure\n",
    "fig"
   ]
  },
  {
   "cell_type": "code",
   "execution_count": null,
   "metadata": {},
   "outputs": [],
   "source": []
  },
  {
   "cell_type": "code",
   "execution_count": null,
   "metadata": {},
   "outputs": [],
   "source": []
  }
 ],
 "metadata": {
  "kernelspec": {
   "display_name": "Python 3",
   "language": "python",
   "name": "python3"
  },
  "language_info": {
   "codemirror_mode": {
    "name": "ipython",
    "version": 3
   },
   "file_extension": ".py",
   "mimetype": "text/x-python",
   "name": "python",
   "nbconvert_exporter": "python",
   "pygments_lexer": "ipython3",
   "version": "3.7.7-final"
  },
  "latex_envs": {
   "LaTeX_envs_menu_present": true,
   "autoclose": false,
   "autocomplete": true,
   "bibliofile": "biblio.bib",
   "cite_by": "apalike",
   "current_citInitial": 1,
   "eqLabelWithNumbers": true,
   "eqNumInitial": 1,
   "hotkeys": {
    "equation": "Ctrl-E",
    "itemize": "Ctrl-I"
   },
   "labels_anchors": false,
   "latex_user_defs": false,
   "report_style_numbering": false,
   "user_envs_cfg": false
  }
 },
 "nbformat": 4,
 "nbformat_minor": 2
}