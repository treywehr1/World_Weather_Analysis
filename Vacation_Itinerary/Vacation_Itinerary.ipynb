{
 "cells": [
  {
   "cell_type": "markdown",
   "metadata": {},
   "source": [
    "## Deliverable 3. Create a Travel Itinerary Map."
   ]
  },
  {
   "cell_type": "code",
   "execution_count": 1,
   "metadata": {},
   "outputs": [],
   "source": [
    "# Dependencies and Setup\n",
    "import pandas as pd\n",
    "import requests\n",
    "import gmaps\n",
    "import numpy as np\n",
    "\n",
    "# Import API key\n",
    "from config import g_key\n",
    "\n",
    "# Configure gmaps\n",
    "gmaps.configure(api_key=g_key)"
   ]
  },
  {
   "cell_type": "code",
   "execution_count": 2,
   "metadata": {},
   "outputs": [
    {
     "output_type": "execute_result",
     "data": {
      "text/plain": [
       "   City_ID       City Country  Max Temp Current Description    Lat     Lng  \\\n",
       "0       23  Etchoropo      MX     88.00           clear sky  26.77 -109.67   \n",
       "1       29      Aswan      EG     83.98           clear sky  24.09   32.91   \n",
       "2       39   Santiago      CL     78.01           clear sky -33.46  -70.65   \n",
       "3       40     Viedma      AR     84.00       broken clouds -40.81  -63.00   \n",
       "4       41      Hobyo      SO     81.45          light rain   5.35   48.53   \n",
       "\n",
       "           Hotel Name  \n",
       "0     Hotel Villa Mar  \n",
       "1           Nuba Nile  \n",
       "2  Hotel Panamericano  \n",
       "3       Hotel Cristal  \n",
       "4        Osmani Hotel  "
      ],
      "text/html": "<div>\n<style scoped>\n    .dataframe tbody tr th:only-of-type {\n        vertical-align: middle;\n    }\n\n    .dataframe tbody tr th {\n        vertical-align: top;\n    }\n\n    .dataframe thead th {\n        text-align: right;\n    }\n</style>\n<table border=\"1\" class=\"dataframe\">\n  <thead>\n    <tr style=\"text-align: right;\">\n      <th></th>\n      <th>City_ID</th>\n      <th>City</th>\n      <th>Country</th>\n      <th>Max Temp</th>\n      <th>Current Description</th>\n      <th>Lat</th>\n      <th>Lng</th>\n      <th>Hotel Name</th>\n    </tr>\n  </thead>\n  <tbody>\n    <tr>\n      <th>0</th>\n      <td>23</td>\n      <td>Etchoropo</td>\n      <td>MX</td>\n      <td>88.00</td>\n      <td>clear sky</td>\n      <td>26.77</td>\n      <td>-109.67</td>\n      <td>Hotel Villa Mar</td>\n    </tr>\n    <tr>\n      <th>1</th>\n      <td>29</td>\n      <td>Aswan</td>\n      <td>EG</td>\n      <td>83.98</td>\n      <td>clear sky</td>\n      <td>24.09</td>\n      <td>32.91</td>\n      <td>Nuba Nile</td>\n    </tr>\n    <tr>\n      <th>2</th>\n      <td>39</td>\n      <td>Santiago</td>\n      <td>CL</td>\n      <td>78.01</td>\n      <td>clear sky</td>\n      <td>-33.46</td>\n      <td>-70.65</td>\n      <td>Hotel Panamericano</td>\n    </tr>\n    <tr>\n      <th>3</th>\n      <td>40</td>\n      <td>Viedma</td>\n      <td>AR</td>\n      <td>84.00</td>\n      <td>broken clouds</td>\n      <td>-40.81</td>\n      <td>-63.00</td>\n      <td>Hotel Cristal</td>\n    </tr>\n    <tr>\n      <th>4</th>\n      <td>41</td>\n      <td>Hobyo</td>\n      <td>SO</td>\n      <td>81.45</td>\n      <td>light rain</td>\n      <td>5.35</td>\n      <td>48.53</td>\n      <td>Osmani Hotel</td>\n    </tr>\n  </tbody>\n</table>\n</div>"
     },
     "metadata": {},
     "execution_count": 2
    }
   ],
   "source": [
    "# 1. Read the WeatherPy_vacation.csv into a DataFrame.\n",
    "vacation_df = pd.read_csv(r\"WeatherPy_vacation.csv\")\n",
    "vacation_df.head()"
   ]
  },
  {
   "cell_type": "code",
   "execution_count": 3,
   "metadata": {},
   "outputs": [],
   "source": [
    "# 2. Using the template add the city name, the country code, the weather description and maximum temperature for the city.\n",
    "info_box_template = \"\"\"\n",
    "<dl>\n",
    "<dt>City</dt><dd>{City}</dd>\n",
    "<dt>Country</dt><dd>{Country}</dd>\n",
    "<dt>Current Description</dt><dd>{Current Description}</dd>\n",
    "<dt>Max Temp</dt><dd>{Max Temp} °F</dd>\n",
    "</dl>\n",
    "\"\"\"\n",
    "\n",
    "# 3a. Get the data from each row and add it to the formatting template and store the data in a list.\n",
    "hotel_info = [info_box_template.format(**row) for index, row in vacation_df.iterrows()]\n",
    "\n",
    "# 3b. Get the latitude and longitude from each row and store in a new DataFrame.\n",
    "locations = vacation_df[[\"Lat\", \"Lng\"]]"
   ]
  },
  {
   "cell_type": "code",
   "execution_count": 4,
   "metadata": {},
   "outputs": [
    {
     "output_type": "display_data",
     "data": {
      "text/plain": "Figure(layout=FigureLayout(height='420px'))",
      "application/vnd.jupyter.widget-view+json": {
       "version_major": 2,
       "version_minor": 0,
       "model_id": "a7d938df50ed4b95ac3f12eca9dcc0ad"
      }
     },
     "metadata": {}
    }
   ],
   "source": [
    "# 4a. Add a marker layer for each city to the map.\n",
    "locations = vacation_df[[\"Lat\", \"Lng\"]]\n",
    "fig = gmaps.figure(center=(30.0, 31.0), zoom_level=1.5)\n",
    "marker_layer = gmaps.marker_layer(locations, info_box_content=hotel_info)\n",
    "fig.add_layer(marker_layer)\n",
    "# 4b. Display the figure\n",
    "fig\n"
   ]
  },
  {
   "cell_type": "code",
   "execution_count": 5,
   "metadata": {},
   "outputs": [
    {
     "output_type": "execute_result",
     "data": {
      "text/plain": [
       "     City_ID   City Country  Max Temp Current Description   Lat   Lng  \\\n",
       "146      528  Nikki      BJ      82.9       broken clouds  9.94  3.21   \n",
       "\n",
       "     Hotel Name  \n",
       "146  Hotel John  "
      ],
      "text/html": "<div>\n<style scoped>\n    .dataframe tbody tr th:only-of-type {\n        vertical-align: middle;\n    }\n\n    .dataframe tbody tr th {\n        vertical-align: top;\n    }\n\n    .dataframe thead th {\n        text-align: right;\n    }\n</style>\n<table border=\"1\" class=\"dataframe\">\n  <thead>\n    <tr style=\"text-align: right;\">\n      <th></th>\n      <th>City_ID</th>\n      <th>City</th>\n      <th>Country</th>\n      <th>Max Temp</th>\n      <th>Current Description</th>\n      <th>Lat</th>\n      <th>Lng</th>\n      <th>Hotel Name</th>\n    </tr>\n  </thead>\n  <tbody>\n    <tr>\n      <th>146</th>\n      <td>528</td>\n      <td>Nikki</td>\n      <td>BJ</td>\n      <td>82.9</td>\n      <td>broken clouds</td>\n      <td>9.94</td>\n      <td>3.21</td>\n      <td>Hotel John</td>\n    </tr>\n  </tbody>\n</table>\n</div>"
     },
     "metadata": {},
     "execution_count": 5
    }
   ],
   "source": [
    "# From the map above pick 4 cities and create a vacation itinerary route to travel between the four cities. \n",
    "# 5. Create DataFrames for each city by filtering the 'vacation_df' using the loc method. \n",
    "# Hint: The starting and ending city should be the same city.\n",
    "\n",
    "vacation_start = vacation_df.loc[vacation_df.City == \"Nikki\", :]\n",
    "vacation_end = vacation_df.loc[vacation_df.City == \"Nikki\", :]\n",
    "vacation_stop1 = vacation_df.loc[vacation_df.City == \"Minna\", :]\n",
    "vacation_stop2 = vacation_df.loc[vacation_df.City == \"Jimeta\", :]\n",
    "vacation_stop3 = vacation_df.loc[vacation_df.City == \"Porto Novo\", :]\n",
    "vacation_start.head()"
   ]
  },
  {
   "cell_type": "code",
   "execution_count": 6,
   "metadata": {},
   "outputs": [
    {
     "output_type": "execute_result",
     "data": {
      "text/plain": [
       "(9.94, 3.21)"
      ]
     },
     "metadata": {},
     "execution_count": 6
    }
   ],
   "source": [
    "# 6. Get the latitude-longitude pairs as tuples from each city DataFrame using the to_numpy function and list indexing.\n",
    "start = vacation_start[\"Lat\"].to_numpy()[0], vacation_start[\"Lng\"].to_numpy()[0]\n",
    "end = vacation_end[\"Lat\"].to_numpy()[0], vacation_end[\"Lng\"].to_numpy()[0]\n",
    "stop1 = vacation_stop1[\"Lat\"].to_numpy()[0], vacation_stop1[\"Lng\"].to_numpy()[0]\n",
    "stop2 = vacation_stop2[\"Lat\"].to_numpy()[0], vacation_stop2[\"Lng\"].to_numpy()[0]\n",
    "stop3 = vacation_stop3[\"Lat\"].to_numpy()[0], vacation_stop3[\"Lng\"].to_numpy()[0]\n",
    "start"
   ]
  },
  {
   "cell_type": "code",
   "execution_count": 7,
   "metadata": {
    "scrolled": true
   },
   "outputs": [
    {
     "output_type": "display_data",
     "data": {
      "text/plain": "Figure(layout=FigureLayout(height='420px'))",
      "application/vnd.jupyter.widget-view+json": {
       "version_major": 2,
       "version_minor": 0,
       "model_id": "af44f975733344ef98b2407e8a095cb7"
      }
     },
     "metadata": {}
    }
   ],
   "source": [
    "# 7. Create a direction layer map using the start and end latitude-longitude pairs,\n",
    "# and stop1, stop2, and stop3 as the waypoints. The travel_mode should be \"DRIVING\", \"BICYCLING\", or \"WALKING\".\n",
    "import gmaps.datasets\n",
    "fig = gmaps.figure(center=(30.0, 31.0), zoom_level=1.5)\n",
    "directions_layer = gmaps.directions_layer(start, end, waypoints=[stop1, stop2, stop3], travel_mode='DRIVING')\n",
    "fig.add_layer(directions_layer)\n",
    "fig "
   ]
  },
  {
   "cell_type": "code",
   "execution_count": 8,
   "metadata": {},
   "outputs": [
    {
     "output_type": "execute_result",
     "data": {
      "text/plain": [
       "   City_ID        City Country  Max Temp Current Description   Lat    Lng  \\\n",
       "0      528       Nikki      BJ     82.90       broken clouds  9.94   3.21   \n",
       "1       86       Minna      NG     86.00           clear sky  9.61   6.56   \n",
       "2      685      Jimeta      NG     87.87     overcast clouds  9.28  12.47   \n",
       "3      311  Porto Novo      BJ     82.40          few clouds  6.50   2.60   \n",
       "4      528       Nikki      BJ     82.90       broken clouds  9.94   3.21   \n",
       "\n",
       "                  Hotel Name  \n",
       "0                 Hotel John  \n",
       "1  Royal Park hotel & suites  \n",
       "2   Yola International Hotel  \n",
       "3    Tour Eiffel Hotel Benin  \n",
       "4                 Hotel John  "
      ],
      "text/html": "<div>\n<style scoped>\n    .dataframe tbody tr th:only-of-type {\n        vertical-align: middle;\n    }\n\n    .dataframe tbody tr th {\n        vertical-align: top;\n    }\n\n    .dataframe thead th {\n        text-align: right;\n    }\n</style>\n<table border=\"1\" class=\"dataframe\">\n  <thead>\n    <tr style=\"text-align: right;\">\n      <th></th>\n      <th>City_ID</th>\n      <th>City</th>\n      <th>Country</th>\n      <th>Max Temp</th>\n      <th>Current Description</th>\n      <th>Lat</th>\n      <th>Lng</th>\n      <th>Hotel Name</th>\n    </tr>\n  </thead>\n  <tbody>\n    <tr>\n      <th>0</th>\n      <td>528</td>\n      <td>Nikki</td>\n      <td>BJ</td>\n      <td>82.90</td>\n      <td>broken clouds</td>\n      <td>9.94</td>\n      <td>3.21</td>\n      <td>Hotel John</td>\n    </tr>\n    <tr>\n      <th>1</th>\n      <td>86</td>\n      <td>Minna</td>\n      <td>NG</td>\n      <td>86.00</td>\n      <td>clear sky</td>\n      <td>9.61</td>\n      <td>6.56</td>\n      <td>Royal Park hotel &amp; suites</td>\n    </tr>\n    <tr>\n      <th>2</th>\n      <td>685</td>\n      <td>Jimeta</td>\n      <td>NG</td>\n      <td>87.87</td>\n      <td>overcast clouds</td>\n      <td>9.28</td>\n      <td>12.47</td>\n      <td>Yola International Hotel</td>\n    </tr>\n    <tr>\n      <th>3</th>\n      <td>311</td>\n      <td>Porto Novo</td>\n      <td>BJ</td>\n      <td>82.40</td>\n      <td>few clouds</td>\n      <td>6.50</td>\n      <td>2.60</td>\n      <td>Tour Eiffel Hotel Benin</td>\n    </tr>\n    <tr>\n      <th>4</th>\n      <td>528</td>\n      <td>Nikki</td>\n      <td>BJ</td>\n      <td>82.90</td>\n      <td>broken clouds</td>\n      <td>9.94</td>\n      <td>3.21</td>\n      <td>Hotel John</td>\n    </tr>\n  </tbody>\n</table>\n</div>"
     },
     "metadata": {},
     "execution_count": 8
    }
   ],
   "source": [
    "# 8. To create a marker layer map between the four cities.\n",
    "#  Combine the four city DataFrames into one DataFrame using the concat() function.\n",
    "itinerary_df = pd.concat([vacation_start, vacation_stop1, vacation_stop2, vacation_stop3, vacation_end],ignore_index=True)\n",
    "itinerary_df"
   ]
  },
  {
   "cell_type": "code",
   "execution_count": 9,
   "metadata": {},
   "outputs": [],
   "source": [
    "# 9 Using the template add city name, the country code, the weather description and maximum temperature for the city. \n",
    "info_box_template = \"\"\"\n",
    "<dl>\n",
    "<dt>Hotel Name</dt><dd>{Hotel Name}</dd>\n",
    "<dt>City</dt><dd>{City}</dd>\n",
    "<dt>Country</dt><dd>{Country}</dd>\n",
    "<dt>Current Description</dt><dd>{Current Description}</dd>\n",
    "<dt>Max Temp</dt><dd>{Max Temp} °F</dd>\n",
    "</dl>\n",
    "\"\"\"\n",
    "# 10a Get the data from each row and add it to the formatting template and store the data in a list.\n",
    "hotel_info = [info_box_template.format(**row) for index, row in itinerary_df.iterrows()]\n",
    "\n",
    "# 10b. Get the latitude and longitude from each row and store in a new DataFrame.\n",
    "locations = itinerary_df[[\"Lat\", \"Lng\"]]"
   ]
  },
  {
   "cell_type": "code",
   "execution_count": 17,
   "metadata": {},
   "outputs": [
    {
     "output_type": "display_data",
     "data": {
      "text/plain": "Figure(layout=FigureLayout(height='420px'))",
      "application/vnd.jupyter.widget-view+json": {
       "version_major": 2,
       "version_minor": 0,
       "model_id": "4eb49d0832a847a79e5c9123a9f6d3c2"
      }
     },
     "metadata": {}
    }
   ],
   "source": [
    "# 11a. Add a marker layer for each city to the map.\n",
    "locations = locations\n",
    "fig = gmaps.figure(center=(10.0, 20.0), zoom_level=5.0)\n",
    "marker_layer = gmaps.marker_layer(locations, info_box_content=hotel_info)\n",
    "fig.add_layer(marker_layer)\n",
    "# 11b. Display the figure\n",
    "fig"
   ]
  },
  {
   "cell_type": "code",
   "execution_count": null,
   "metadata": {},
   "outputs": [],
   "source": []
  }
 ],
 "metadata": {
  "kernelspec": {
   "display_name": "Python 3",
   "language": "python",
   "name": "python3"
  },
  "language_info": {
   "codemirror_mode": {
    "name": "ipython",
    "version": 3
   },
   "file_extension": ".py",
   "mimetype": "text/x-python",
   "name": "python",
   "nbconvert_exporter": "python",
   "pygments_lexer": "ipython3",
   "version": "3.7.7-final"
  },
  "latex_envs": {
   "LaTeX_envs_menu_present": true,
   "autoclose": false,
   "autocomplete": true,
   "bibliofile": "biblio.bib",
   "cite_by": "apalike",
   "current_citInitial": 1,
   "eqLabelWithNumbers": true,
   "eqNumInitial": 1,
   "hotkeys": {
    "equation": "Ctrl-E",
    "itemize": "Ctrl-I"
   },
   "labels_anchors": false,
   "latex_user_defs": false,
   "report_style_numbering": false,
   "user_envs_cfg": false
  }
 },
 "nbformat": 4,
 "nbformat_minor": 2
}